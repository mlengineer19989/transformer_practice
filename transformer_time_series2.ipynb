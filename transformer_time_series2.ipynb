{
  "cells": [
    {
      "cell_type": "markdown",
      "metadata": {
        "id": "view-in-github",
        "colab_type": "text"
      },
      "source": [
        "<a href=\"https://colab.research.google.com/github/satoshi19989/transformer_practice/blob/main/transformer_time_series2.ipynb\" target=\"_parent\"><img src=\"https://colab.research.google.com/assets/colab-badge.svg\" alt=\"Open In Colab\"/></a>"
      ]
    },
    {
      "cell_type": "code",
      "execution_count": 1,
      "metadata": {
        "id": "Tev288uUdUBQ"
      },
      "outputs": [],
      "source": [
        "%load_ext autoreload\n",
        "%autoreload 2"
      ]
    },
    {
      "cell_type": "code",
      "execution_count": 2,
      "metadata": {
        "colab": {
          "base_uri": "https://localhost:8080/"
        },
        "id": "4l07R6tvTQ_V",
        "outputId": "4882c519-5e8e-45ba-c5b9-a3b3965f5a0c"
      },
      "outputs": [
        {
          "output_type": "stream",
          "name": "stdout",
          "text": [
            "Mounted at /content/drive\n"
          ]
        }
      ],
      "source": [
        "from google.colab import drive\n",
        "drive.mount('/content/drive')"
      ]
    },
    {
      "cell_type": "code",
      "execution_count": 3,
      "metadata": {
        "colab": {
          "base_uri": "https://localhost:8080/"
        },
        "id": "m3F6O15u7zvO",
        "outputId": "8f227f1e-50df-4613-d3b8-85b483cbd84e"
      },
      "outputs": [
        {
          "output_type": "stream",
          "name": "stdout",
          "text": [
            "Reading package lists... Done\n",
            "Building dependency tree       \n",
            "Reading state information... Done\n",
            "git is already the newest version (1:2.25.1-1ubuntu3.10).\n",
            "The following package was automatically installed and is no longer required:\n",
            "  libnvidia-common-510\n",
            "Use 'apt autoremove' to remove it.\n",
            "0 upgraded, 0 newly installed, 0 to remove and 21 not upgraded.\n"
          ]
        }
      ],
      "source": [
        "!apt-get install git"
      ]
    },
    {
      "cell_type": "code",
      "execution_count": 4,
      "metadata": {
        "colab": {
          "base_uri": "https://localhost:8080/"
        },
        "id": "i6L59emd7-AI",
        "outputId": "34f5d24d-495f-4801-d0a5-aa150a3e9926"
      },
      "outputs": [
        {
          "output_type": "stream",
          "name": "stdout",
          "text": [
            "Cloning into 'transformer_practice'...\n",
            "remote: Enumerating objects: 32, done.\u001b[K\n",
            "remote: Counting objects: 100% (32/32), done.\u001b[K\n",
            "remote: Compressing objects: 100% (22/22), done.\u001b[K\n",
            "remote: Total 32 (delta 14), reused 22 (delta 9), pack-reused 0\u001b[K\n",
            "Unpacking objects: 100% (32/32), 122.27 KiB | 1.82 MiB/s, done.\n"
          ]
        }
      ],
      "source": [
        "!git clone https://github.com/satoshi19989/transformer_practice.git"
      ]
    },
    {
      "cell_type": "code",
      "execution_count": 5,
      "metadata": {
        "id": "hpjN-XtnTZUK"
      },
      "outputs": [],
      "source": [
        "import os\n",
        "import sys\n",
        "import numpy as np\n",
        "import pandas as pd\n",
        "import tensorflow as tf\n",
        "from tensorflow import keras"
      ]
    },
    {
      "cell_type": "code",
      "execution_count": 6,
      "metadata": {
        "id": "64RxUhr_3OOL"
      },
      "outputs": [],
      "source": [
        "module_path = \"/content/transformer_practice/modules\"\n",
        "sys.path.append(module_path)"
      ]
    },
    {
      "cell_type": "markdown",
      "metadata": {
        "id": "JuQAqjiN7IC6"
      },
      "source": [
        "# 対象データ確認"
      ]
    },
    {
      "cell_type": "code",
      "execution_count": 7,
      "metadata": {
        "colab": {
          "base_uri": "https://localhost:8080/"
        },
        "id": "Q4dE6HuuMvuy",
        "outputId": "f4d5c8b9-e7d1-48d1-b485-65ce4bd7cdb3"
      },
      "outputs": [
        {
          "output_type": "stream",
          "name": "stdout",
          "text": [
            "--2023-02-22 22:59:53--  https://s3.amazonaws.com/keras-datasets/jena_climate_2009_2016.csv.zip\n",
            "Resolving s3.amazonaws.com (s3.amazonaws.com)... 54.231.128.152, 52.216.48.192, 52.216.60.248, ...\n",
            "Connecting to s3.amazonaws.com (s3.amazonaws.com)|54.231.128.152|:443... connected.\n",
            "HTTP request sent, awaiting response... 200 OK\n",
            "Length: 13565642 (13M) [application/zip]\n",
            "Saving to: ‘jena_climate_2009_2016.csv.zip’\n",
            "\n",
            "jena_climate_2009_2 100%[===================>]  12.94M  40.6MB/s    in 0.3s    \n",
            "\n",
            "2023-02-22 22:59:54 (40.6 MB/s) - ‘jena_climate_2009_2016.csv.zip’ saved [13565642/13565642]\n",
            "\n",
            "Archive:  jena_climate_2009_2016.csv.zip\n",
            "  inflating: jena_climate_2009_2016.csv  \n",
            "  inflating: __MACOSX/._jena_climate_2009_2016.csv  \n"
          ]
        }
      ],
      "source": [
        "!wget https://s3.amazonaws.com/keras-datasets/jena_climate_2009_2016.csv.zip\n",
        "!unzip jena_climate_2009_2016.csv.zip"
      ]
    },
    {
      "cell_type": "code",
      "execution_count": 8,
      "metadata": {
        "colab": {
          "base_uri": "https://localhost:8080/"
        },
        "id": "En53pVWUNFea",
        "outputId": "2e0c1423-de5f-4c91-cfdb-71a8758ed24b"
      },
      "outputs": [
        {
          "output_type": "stream",
          "name": "stdout",
          "text": [
            "['\"Date Time\"', '\"p (mbar)\"', '\"T (degC)\"', '\"Tpot (K)\"', '\"Tdew (degC)\"', '\"rh (%)\"', '\"VPmax (mbar)\"', '\"VPact (mbar)\"', '\"VPdef (mbar)\"', '\"sh (g/kg)\"', '\"H2OC (mmol/mol)\"', '\"rho (g/m**3)\"', '\"wv (m/s)\"', '\"max. wv (m/s)\"', '\"wd (deg)\"']\n",
            "420451\n"
          ]
        }
      ],
      "source": [
        "#例１\n",
        "\n",
        "fname = os.path.join(\"jena_climate_2009_2016.csv\")\n",
        "\n",
        "with open(fname) as f:\n",
        "    data = f.read()\n",
        "\n",
        "lines = data.split(\"\\n\")\n",
        "header = lines[0].split(\",\")\n",
        "lines = lines[1:]\n",
        "print(header)\n",
        "print(len(lines))\n",
        "\n",
        "\n",
        "#例2\n",
        "\n",
        "# data_path = os.path.join(module_path, \"influenza_transformer/data\")\n",
        "# data = pd.read_csv(os.path.join(data_path, \"dfs_merged_upload.csv\"), index_col=0)"
      ]
    },
    {
      "cell_type": "code",
      "execution_count": 9,
      "metadata": {
        "colab": {
          "base_uri": "https://localhost:8080/",
          "height": 285
        },
        "id": "47M48I7o4H5y",
        "outputId": "6dd4a133-dd09-4cad-e51a-8d5155c65bb9"
      },
      "outputs": [
        {
          "output_type": "execute_result",
          "data": {
            "text/plain": [
              "[<matplotlib.lines.Line2D at 0x7f9b3a6d5880>]"
            ]
          },
          "metadata": {},
          "execution_count": 9
        },
        {
          "output_type": "display_data",
          "data": {
            "text/plain": [
              "<Figure size 432x288 with 1 Axes>"
            ],
            "image/png": "[encoded data removed]"
          },
          "metadata": {
            "needs_background": "light"
          }
        }
      ],
      "source": [
        "from matplotlib import pyplot as plt\n",
        "\n",
        "#例1\n",
        "temperature = np.zeros((len(lines),))\n",
        "raw_data = np.zeros((len(lines), len(header) - 1))\n",
        "for i, line in enumerate(lines):\n",
        "    values = [float(x) for x in line.split(\",\")[1:]]\n",
        "    temperature[i] = values[1]\n",
        "    raw_data[i, :] = values[:]\n",
        "\n",
        "plt.plot(range(len(temperature)), temperature)\n",
        "\n",
        "\n",
        "#例2\n",
        "# plt.figure()\n",
        "# plt.plot(data['FCR_N_PriceEUR'])"
      ]
    },
    {
      "cell_type": "markdown",
      "metadata": {
        "id": "hqXMMzMtnaN2"
      },
      "source": [
        "# データ前処理"
      ]
    },
    {
      "cell_type": "code",
      "execution_count": null,
      "metadata": {
        "id": "uYG67fJ98nMJ"
      },
      "outputs": [],
      "source": [
        "import generate_data as gd\n",
        "import utility\n",
        "from utility import resampling\n",
        "\n",
        "\n",
        "\n",
        "#例1\n",
        "#raw_data = resampling(raw_data, 6)\n",
        "batch_size = 256\n",
        "window_width =120\n",
        "pred_points = 24\n",
        "\n",
        "#例2\n",
        "# raw_data = data['FCR_N_PriceEUR'].values\n",
        "# raw_data = raw_data[:-1925]\n",
        "\n",
        "# batch_size = 100\n",
        "# window_width =20\n",
        "# pred_points = 10\n",
        "\n",
        "predata = gd.PreprocessData(raw_data, batch_size, window_width, pred_points, 6, 1)"
      ]
    },
    {
      "cell_type": "markdown",
      "metadata": {
        "id": "fTuBq0tJZjqd"
      },
      "source": [
        "# 学習用データ生成"
      ]
    },
    {
      "cell_type": "code",
      "execution_count": 109,
      "metadata": {
        "colab": {
          "base_uri": "https://localhost:8080/"
        },
        "id": "u8TjVYdtawZW",
        "outputId": "ae5ff3f2-44e2-405b-9e40-0560e250dd80"
      },
      "outputs": [
        {
          "output_type": "stream",
          "name": "stdout",
          "text": [
            "num_train_samples: 210225\n",
            "num_val_samples: 105112\n",
            "num_test_samples: 105114\n"
          ]
        },
        {
          "output_type": "stream",
          "name": "stderr",
          "text": [
            "/content/transformer_practice/modules/generate_data.py:183: VisibleDeprecationWarning: Creating an ndarray from ragged nested sequences (which is a list-or-tuple of lists-or-tuples-or ndarrays with different lengths or shapes) is deprecated. If you meant to do this, you must specify 'dtype=object' when creating the ndarray.\n",
            "  start_index=0,\n"
          ]
        }
      ],
      "source": [
        "from generate_data import textbook_method, textbook_method_multistep\n",
        "\n",
        "# sampling_rate = 6\n",
        "# sequence_length = 120\n",
        "# pred_points = 10\n",
        "# delay = sampling_rate * (sequence_length + 24 - 1)\n",
        "# batch_size = 256\n",
        "\n",
        "sampling_rate = 1\n",
        "sequence_length = 120\n",
        "pred_points = 10\n",
        "delay = sampling_rate * (sequence_length +  - 1)\n",
        "batch_size = 256\n",
        "\n",
        "#train_dataset, val_dataset, test_dataset = textbook_method(raw_data, temperature, sampling_rate, sequence_length, delay, batch_size)\n",
        "train_dataset, val_dataset, test_dataset, mean, std = textbook_method_multistep(raw_data, temperature, sampling_rate, sequence_length, delay, pred_points, batch_size)"
      ]
    },
    {
      "cell_type": "code",
      "source": [
        "plt.figure()\n",
        "plt.plot(temperature[delay:delay+10])"
      ],
      "metadata": {
        "id": "HPZJKkbdjRsi",
        "outputId": "5869b7f2-8cf8-4f64-ed9d-1dbc4d8da2b2",
        "colab": {
          "base_uri": "https://localhost:8080/",
          "height": 282
        }
      },
      "execution_count": 90,
      "outputs": [
        {
          "output_type": "execute_result",
          "data": {
            "text/plain": [
              "[<matplotlib.lines.Line2D at 0x7f9b339bf100>]"
            ]
          },
          "metadata": {},
          "execution_count": 90
        },
        {
          "output_type": "display_data",
          "data": {
            "text/plain": [
              "<Figure size 432x288 with 1 Axes>"
            ],
            "image/png": "[encoded data removed]"
          },
          "metadata": {
            "needs_background": "light"
          }
        }
      ]
    },
    {
      "cell_type": "code",
      "source": [
        "mean"
      ],
      "metadata": {
        "id": "k7RvQGhQkOBL",
        "outputId": "7231479b-4538-4f44-ef66-87a394a48f02",
        "colab": {
          "base_uri": "https://localhost:8080/"
        }
      },
      "execution_count": 67,
      "outputs": [
        {
          "output_type": "execute_result",
          "data": {
            "text/plain": [
              "array([-1.60029757e-17,  4.03804842e-17,  4.78976011e-16, -3.24310814e-17,\n",
              "       -2.76933905e-16,  4.89195238e-17,  6.82072229e-17,  2.22282255e-18,\n",
              "       -4.34611716e-16,  3.03650552e-16, -3.35811108e-17, -4.10892102e-17,\n",
              "        3.32267874e-16, -3.55975737e-17])"
            ]
          },
          "metadata": {},
          "execution_count": 67
        }
      ]
    },
    {
      "cell_type": "code",
      "execution_count": 113,
      "metadata": {
        "colab": {
          "base_uri": "https://localhost:8080/",
          "height": 530
        },
        "id": "buKerL4AxKrO",
        "outputId": "b1340da7-2dbb-44c2-b23e-95e0e6e885ef"
      },
      "outputs": [
        {
          "output_type": "stream",
          "name": "stdout",
          "text": [
            "(256, 129, 14) => (256, 10)\n"
          ]
        },
        {
          "output_type": "display_data",
          "data": {
            "text/plain": [
              "<Figure size 432x288 with 1 Axes>"
            ],
            "image/png": "[encoded data removed]"
          },
          "metadata": {
            "needs_background": "light"
          }
        },
        {
          "output_type": "display_data",
          "data": {
            "text/plain": [
              "<Figure size 432x288 with 1 Axes>"
            ],
            "image/png": "[encoded data removed]"
          },
          "metadata": {
            "needs_background": "light"
          }
        }
      ],
      "source": [
        "for x,y in train_dataset:\n",
        "    #x, y = train_dataset[i]\n",
        "    print('%s => %s' % (x.shape, y.shape))\n",
        "    enc_input = x[:,:sequence_length]\n",
        "    dec_input = x[:,sequence_length-1:]\n",
        "\n",
        "    plt.figure()\n",
        "    plt.plot(dec_input[0,1:,1])\n",
        "\n",
        "    plt.figure()\n",
        "    plt.plot(y[0,:-1])\n",
        "    break"
      ]
    },
    {
      "cell_type": "code",
      "execution_count": null,
      "metadata": {
        "colab": {
          "base_uri": "https://localhost:8080/"
        },
        "id": "leH05xiirYCW",
        "outputId": "67f0cb25-701a-45da-f20b-c9e9214c02d8"
      },
      "outputs": [
        {
          "name": "stdout",
          "output_type": "stream",
          "text": [
            "input_train  (34816, 120, 14)\n",
            "y_train  (34816,)\n",
            "input_val  (17408, 120, 14)\n",
            "y_val  (17408,)\n",
            "input_test  (17152, 120, 14)\n",
            "y_test  (17152,)\n"
          ]
        }
      ],
      "source": [
        "#transformerの場合\n",
        "enc_train, dec_train, y_train, enc_val, dec_val, y_val, enc_test, dec_test, y_test = predata.make_data_for_transformer()\n",
        "input = tf.concat([enc_train, dec_train], axis=1)\n",
        "val_input = tf.concat([enc_val, dec_val], axis=1)\n",
        "val_data = (val_input, y_val)\n",
        "\n",
        "#NNの場合\n",
        "x_train, y_train, x_val, y_val, x_test, y_test = predata.make_data_for_NN()\n",
        "\n"
      ]
    },
    {
      "cell_type": "code",
      "execution_count": null,
      "metadata": {
        "colab": {
          "base_uri": "https://localhost:8080/"
        },
        "id": "ksXWIOfGgAHM",
        "outputId": "207888cd-86eb-4376-e709-ac8f789a5246"
      },
      "outputs": [
        {
          "name": "stdout",
          "output_type": "stream",
          "text": [
            "Test MAE: 2.38\n"
          ]
        }
      ],
      "source": [
        "import utility\n",
        "\n",
        "train_data = raw_data[:predata.num_train_samples]\n",
        "val_data = raw_data[predata.num_train_samples : predata.num_train_samples+predata.num_val_samples]\n",
        "test_data = raw_data[predata.num_train_samples + predata.num_val_samples : predata.num_train_samples + predata.num_val_samples + predata.num_test_samples]\n",
        "\n",
        "test_mae, y_pred_naive = utility.evaluate_naive_method(test_data)\n",
        "\n",
        "#print(f\"Validation MAE: {evaluate_naive_method(val_data):.2f}\")\n",
        "print(f\"Test MAE: {test_mae:.2f}\")"
      ]
    },
    {
      "cell_type": "markdown",
      "metadata": {
        "id": "GSrtFnvCoeCr"
      },
      "source": [
        "# 基本的なNNを試す"
      ]
    },
    {
      "cell_type": "code",
      "execution_count": null,
      "metadata": {
        "colab": {
          "base_uri": "https://localhost:8080/",
          "height": 908
        },
        "id": "ntP7YxSeoYzA",
        "outputId": "9960379b-8dea-42dd-b1e4-45a56aa6b1e9"
      },
      "outputs": [
        {
          "name": "stdout",
          "output_type": "stream",
          "text": [
            "(None, 120, 14)\n",
            "Epoch 1/10\n",
            "(None, 120, 14)\n",
            "(None, 120, 14)\n",
            "817/819 [============================>.] - ETA: 0s - loss: 11.8863 - mae: 2.6702(None, 120, 14)\n",
            "819/819 [==============================] - 58s 69ms/step - loss: 11.8802 - mae: 2.6696 - val_loss: 10.9544 - val_mae: 2.6091\n",
            "Epoch 2/10\n",
            "819/819 [==============================] - 56s 69ms/step - loss: 8.7167 - mae: 2.3203 - val_loss: 10.5987 - val_mae: 2.5671\n",
            "Epoch 3/10\n",
            "819/819 [==============================] - 58s 70ms/step - loss: 8.0300 - mae: 2.2254 - val_loss: 10.7199 - val_mae: 2.5914\n",
            "Epoch 4/10\n",
            "819/819 [==============================] - 55s 67ms/step - loss: 7.6188 - mae: 2.1682 - val_loss: 11.3213 - val_mae: 2.6626\n",
            "Epoch 5/10\n",
            "819/819 [==============================] - 55s 67ms/step - loss: 7.3211 - mae: 2.1259 - val_loss: 11.3968 - val_mae: 2.6609\n",
            "Epoch 6/10\n",
            "819/819 [==============================] - 57s 70ms/step - loss: 7.1142 - mae: 2.0958 - val_loss: 10.4062 - val_mae: 2.5446\n",
            "Epoch 7/10\n",
            "819/819 [==============================] - 58s 70ms/step - loss: 6.9464 - mae: 2.0699 - val_loss: 10.9125 - val_mae: 2.6128\n",
            "Epoch 8/10\n",
            "819/819 [==============================] - 55s 67ms/step - loss: 6.7897 - mae: 2.0467 - val_loss: 10.6494 - val_mae: 2.5755\n",
            "Epoch 9/10\n",
            "819/819 [==============================] - 59s 72ms/step - loss: 6.6908 - mae: 2.0314 - val_loss: 10.7618 - val_mae: 2.5885\n",
            "Epoch 10/10\n",
            "819/819 [==============================] - 58s 71ms/step - loss: 6.5678 - mae: 2.0113 - val_loss: 11.1398 - val_mae: 2.6359\n"
          ]
        },
        {
          "ename": "ValueError",
          "evalue": "ignored",
          "output_type": "error",
          "traceback": [
            "\u001b[0;31m---------------------------------------------------------------------------\u001b[0m",
            "\u001b[0;31mValueError\u001b[0m                                Traceback (most recent call last)",
            "\u001b[0;32m<ipython-input-15-3ae8d26a7c85>\u001b[0m in \u001b[0;36m<module>\u001b[0;34m\u001b[0m\n\u001b[1;32m     43\u001b[0m                     \u001b[0mvalidation_data\u001b[0m\u001b[0;34m=\u001b[0m\u001b[0mval_dataset\u001b[0m\u001b[0;34m,\u001b[0m\u001b[0;34m\u001b[0m\u001b[0;34m\u001b[0m\u001b[0m\n\u001b[1;32m     44\u001b[0m                     callbacks=callbacks)\n\u001b[0;32m---> 45\u001b[0;31m \u001b[0mmodel\u001b[0m \u001b[0;34m=\u001b[0m \u001b[0mkeras\u001b[0m\u001b[0;34m.\u001b[0m\u001b[0mmodels\u001b[0m\u001b[0;34m.\u001b[0m\u001b[0mload_model\u001b[0m\u001b[0;34m(\u001b[0m\u001b[0;34m\"jena_dense.keras\"\u001b[0m\u001b[0;34m)\u001b[0m\u001b[0;34m\u001b[0m\u001b[0;34m\u001b[0m\u001b[0m\n\u001b[0m\u001b[1;32m     46\u001b[0m \u001b[0;34m\u001b[0m\u001b[0m\n\u001b[1;32m     47\u001b[0m \u001b[0mprint\u001b[0m\u001b[0;34m(\u001b[0m\u001b[0;34mf\"Test MAE: {model.evaluate(x_test, y_test)[1]:.2f}\"\u001b[0m\u001b[0;34m)\u001b[0m\u001b[0;34m\u001b[0m\u001b[0;34m\u001b[0m\u001b[0m\n",
            "\u001b[0;32m/usr/local/lib/python3.8/dist-packages/keras/utils/traceback_utils.py\u001b[0m in \u001b[0;36merror_handler\u001b[0;34m(*args, **kwargs)\u001b[0m\n\u001b[1;32m     68\u001b[0m             \u001b[0;31m# To get the full stack trace, call:\u001b[0m\u001b[0;34m\u001b[0m\u001b[0;34m\u001b[0m\u001b[0;34m\u001b[0m\u001b[0m\n\u001b[1;32m     69\u001b[0m             \u001b[0;31m# `tf.debugging.disable_traceback_filtering()`\u001b[0m\u001b[0;34m\u001b[0m\u001b[0;34m\u001b[0m\u001b[0;34m\u001b[0m\u001b[0m\n\u001b[0;32m---> 70\u001b[0;31m             \u001b[0;32mraise\u001b[0m \u001b[0me\u001b[0m\u001b[0;34m.\u001b[0m\u001b[0mwith_traceback\u001b[0m\u001b[0;34m(\u001b[0m\u001b[0mfiltered_tb\u001b[0m\u001b[0;34m)\u001b[0m \u001b[0;32mfrom\u001b[0m \u001b[0;32mNone\u001b[0m\u001b[0;34m\u001b[0m\u001b[0;34m\u001b[0m\u001b[0m\n\u001b[0m\u001b[1;32m     71\u001b[0m         \u001b[0;32mfinally\u001b[0m\u001b[0;34m:\u001b[0m\u001b[0;34m\u001b[0m\u001b[0;34m\u001b[0m\u001b[0m\n\u001b[1;32m     72\u001b[0m             \u001b[0;32mdel\u001b[0m \u001b[0mfiltered_tb\u001b[0m\u001b[0;34m\u001b[0m\u001b[0;34m\u001b[0m\u001b[0m\n",
            "\u001b[0;32m/usr/local/lib/python3.8/dist-packages/keras/saving/legacy/serialization.py\u001b[0m in \u001b[0;36mclass_and_config_for_serialized_keras_object\u001b[0;34m(config, module_objects, custom_objects, printable_module_name)\u001b[0m\n\u001b[1;32m    383\u001b[0m     )\n\u001b[1;32m    384\u001b[0m     \u001b[0;32mif\u001b[0m \u001b[0mcls\u001b[0m \u001b[0;32mis\u001b[0m \u001b[0;32mNone\u001b[0m\u001b[0;34m:\u001b[0m\u001b[0;34m\u001b[0m\u001b[0;34m\u001b[0m\u001b[0m\n\u001b[0;32m--> 385\u001b[0;31m         raise ValueError(\n\u001b[0m\u001b[1;32m    386\u001b[0m             \u001b[0;34mf\"Unknown {printable_module_name}: '{class_name}'. \"\u001b[0m\u001b[0;34m\u001b[0m\u001b[0;34m\u001b[0m\u001b[0m\n\u001b[1;32m    387\u001b[0m             \u001b[0;34m\"Please ensure you are using a `keras.utils.custom_object_scope` \"\u001b[0m\u001b[0;34m\u001b[0m\u001b[0;34m\u001b[0m\u001b[0m\n",
            "\u001b[0;31mValueError\u001b[0m: Unknown layer: 'MyLayer'. Please ensure you are using a `keras.utils.custom_object_scope` and that this object is included in the scope. See https://www.tensorflow.org/guide/keras/save_and_serialize#registering_the_custom_object for details."
          ]
        }
      ],
      "source": [
        "from tensorflow.python import metrics\n",
        "from tensorflow import keras\n",
        "from tensorflow.keras import layers\n",
        "\n",
        "class MyLayer(tf.keras.layers.Layer):\n",
        "  def __init__(self, trainable=True, name=None, dtype=None, dynamic=False, **kwargs):\n",
        "      super().__init__(trainable, name, dtype, dynamic, **kwargs)\n",
        "\n",
        "      self.flat = layers.Flatten()\n",
        "      self.layer1 = layers.Dense(16, activation=\"relu\")\n",
        "      self.layer2 = layers.Dense(1)\n",
        "\n",
        "  def call(self, x):\n",
        "    print(x.shape)\n",
        "    x = self.flat(x)\n",
        "    x = self.layer1(x)\n",
        "    x = self.layer2(x)\n",
        "    return x\n",
        "\n",
        "inputs = keras.Input(shape=(sequence_length, raw_data.shape[-1]))\n",
        "# x = layers.Flatten()(inputs)\n",
        "# x = layers.Dense(16, activation=\"relu\")(x)\n",
        "# outputs = layers.Dense(1)(x)\n",
        "outputs = MyLayer()(inputs)\n",
        "model = keras.Model(inputs, outputs)\n",
        "\n",
        "#callbackを使って最も性能の良いモデルを保存\n",
        "callbacks = [\n",
        "    keras.callbacks.ModelCheckpoint(\"jena_dense.keras\", save_best_only=True)\n",
        "]\n",
        "model.compile(optimizer=\"rmsprop\", loss=\"mse\", metrics=[\"mae\"])\n",
        "\n",
        "# history = model.fit(x_train, \n",
        "#                     y_train, \n",
        "#                     epochs=10,\n",
        "#                     #batch_size=batch_size, \n",
        "#                     validation_data=(x_val, y_val),\n",
        "#                     callbacks=callbacks)\n",
        "\n",
        "history = model.fit(train_dataset, \n",
        "                    epochs=10,\n",
        "                    batch_size=batch_size, \n",
        "                    validation_data=val_dataset,\n",
        "                    callbacks=callbacks)\n",
        "model = keras.models.load_model(\"jena_dense.keras\", custom_objects={'MyLayer':MyLayer})\n",
        "\n",
        "print(f\"Test MAE: {model.evaluate(x_test, y_test)[1]:.2f}\")"
      ]
    },
    {
      "cell_type": "code",
      "execution_count": null,
      "metadata": {
        "colab": {
          "base_uri": "https://localhost:8080/",
          "height": 281
        },
        "id": "Uh02-75OomHA",
        "outputId": "85701efd-7d00-4b4c-8987-184445f9f152"
      },
      "outputs": [
        {
          "data": {
            "image/png": "[encoded data removed]",
            "text/plain": [
              "<Figure size 432x288 with 1 Axes>"
            ]
          },
          "metadata": {},
          "output_type": "display_data"
        }
      ],
      "source": [
        "import matplotlib.pyplot as plt\n",
        "\n",
        "loss = history.history[\"mae\"]\n",
        "val_loss = history.history[\"val_mae\"]\n",
        "epochs = range(1, len(loss) + 1)\n",
        "plt.figure()\n",
        "plt.plot(epochs, loss, \"bo\", label=\"Training MAE\")\n",
        "plt.plot(epochs, val_loss, \"b\", label=\"Validation MAE\")\n",
        "plt.title(\"Training and validation MSE\")\n",
        "plt.legend()\n",
        "plt.show()"
      ]
    },
    {
      "cell_type": "code",
      "execution_count": null,
      "metadata": {
        "colab": {
          "base_uri": "https://localhost:8080/",
          "height": 282
        },
        "id": "l5cSjDk9h_uK",
        "outputId": "d9910110-efb0-41c7-b271-e6401b3c00ab"
      },
      "outputs": [
        {
          "data": {
            "text/plain": [
              "[<matplotlib.lines.Line2D at 0x7fb39ab93be0>]"
            ]
          },
          "execution_count": 81,
          "metadata": {},
          "output_type": "execute_result"
        },
        {
          "data": {
            "image/png": "[encoded data removed]",
            "text/plain": [
              "<Figure size 432x288 with 1 Axes>"
            ]
          },
          "metadata": {},
          "output_type": "display_data"
        }
      ],
      "source": [
        "end_point = 3000\n",
        "\n",
        "plt.figure()\n",
        "plt.plot(y_test[:end_point])\n",
        "plt.plot(y_pred[:end_point,0])"
      ]
    },
    {
      "cell_type": "code",
      "execution_count": null,
      "metadata": {
        "colab": {
          "base_uri": "https://localhost:8080/"
        },
        "id": "QekqrDL6iyq4",
        "outputId": "345ed8a0-c0f8-4ddf-eb35-620bbb50e6d1"
      },
      "outputs": [
        {
          "name": "stdout",
          "output_type": "stream",
          "text": [
            "MSE :  0.38244757104208854\n",
            "r2 :  0.8241300222865205\n"
          ]
        }
      ],
      "source": [
        "MSE, r2 = utility.calc_score(y_test, y_pred[:,0])\n",
        "print(\"MSE : \", MSE)\n",
        "print(\"r2 : \", r2)"
      ]
    },
    {
      "cell_type": "code",
      "execution_count": null,
      "metadata": {
        "colab": {
          "base_uri": "https://localhost:8080/",
          "height": 282
        },
        "id": "CXRiRE-vi4tE",
        "outputId": "5e55778c-0585-4deb-b912-3a030b46105d"
      },
      "outputs": [
        {
          "data": {
            "text/plain": [
              "[<matplotlib.lines.Line2D at 0x7fb39a5411c0>]"
            ]
          },
          "execution_count": 83,
          "metadata": {},
          "output_type": "execute_result"
        },
        {
          "data": {
            "image/png": "[encoded data removed]",
            "text/plain": [
              "<Figure size 432x288 with 1 Axes>"
            ]
          },
          "metadata": {},
          "output_type": "display_data"
        }
      ],
      "source": [
        "x = np.arange(-2, 6, 0.1)\n",
        "y = x\n",
        "\n",
        "plt.figure()\n",
        "plt.scatter(y_test, y_pred[:,0])\n",
        "plt.plot(x, y)"
      ]
    },
    {
      "cell_type": "markdown",
      "metadata": {
        "id": "3MVcQCpP2dtR"
      },
      "source": [
        "# トランスフォーマの構築"
      ]
    },
    {
      "cell_type": "code",
      "execution_count": 114,
      "metadata": {
        "id": "guuEJbEF-014"
      },
      "outputs": [],
      "source": [
        "dmodel = 28"
      ]
    },
    {
      "cell_type": "code",
      "execution_count": 115,
      "metadata": {
        "id": "0I3ntdYO4aTA"
      },
      "outputs": [],
      "source": [
        "from tensorflow.keras import optimizers\n",
        "from tensorflow.keras.callbacks import LearningRateScheduler\n",
        "from transformer_layers import Encoder\n",
        "import transformer_core as tfc\n",
        "from transformer_core import TransformerBaseTimeSeriesForecastModel, EncoderWithMultiHeadAttentionBaseTimeSeriesForecastModel\n",
        "\n",
        "# 学習率を返す関数を用意する\n",
        "def lr_schedul(epoch):\n",
        "    lr = (dmodel**0.5) * min(epoch**0.5, epoch * (5000**(-1.5)))\n",
        "    return lr\n",
        "\n",
        "\n",
        "lr_decay = LearningRateScheduler(\n",
        "    lr_schedul,\n",
        "    # verbose=1で、更新メッセージ表示。0の場合は表示しない\n",
        "    verbose=0,\n",
        ")\n",
        "\n",
        "criterion = tf.keras.losses.MeanSquaredError()\n",
        "optimizer = optimizers.Adam(beta_1=0.9, beta_2=0.98, epsilon=1e-09, amsgrad=False)\n",
        "\n",
        "\n",
        "# inputs = keras.Input(shape=(None,))\n",
        "# x = Encoder(4, dmodel, 1, 100, sequence_length, 20000, 0.2)(x, True, None)  # (batch_size, inp_seq_len, d_model)\n",
        "# outputs = layers.Dense(1)(x)\n",
        "\n",
        "# model = keras.Model(inputs, outputs)\n",
        "\n",
        "\n",
        "\n",
        "\n",
        "\n",
        "inputs = keras.Input(shape=(sequence_length, raw_data.shape[-1]))\n",
        "inputs = keras.Input(shape=(sequence_length+pred_points -1, raw_data.shape[-1]))\n",
        "\n",
        "# outputs = EncoderWithMultiHeadAttentionBaseTimeSeriesForecastModel(num_layers=1, # Multi-head Attentionの繰り返し数\n",
        "#                                                   d_model = dmodel, # embeddingの次元\n",
        "#                                                   num_heads=1,  # Multi-head Attentionのヘッド数\n",
        "#                                                   dff = 30,      #全結合層のユニット数\n",
        "#                                                   pe_input = sequence_length, \n",
        "#                                                   window_width = sequence_length, \n",
        "#                                                   rate=0.2)(inputs)\n",
        "                                 \n",
        "outputs = TransformerBaseTimeSeriesForecastModel(num_layers=2, # Multi-head Attentionの繰り返し数\n",
        "                                                  d_model = dmodel, # embeddingの次元\n",
        "                                                  num_heads=2,  # Multi-head Attentionのヘッド数\n",
        "                                                  dff = 30,      #全結合層のユニット数\n",
        "                                                  pe_input = sequence_length, \n",
        "                                                  pe_target = pred_points,\n",
        "                                                  window_width = sequence_length, \n",
        "                                                  rate=0.2)(inputs)\n",
        "\n",
        "model = keras.Model(inputs, outputs)\n",
        "\n",
        "\n",
        "#model.build(input_shape=(batch_size, sequence_length, 14))\n",
        "model.compile(loss=criterion, optimizer=optimizer, metrics=['mae'])\n",
        "\n",
        "\n"
      ]
    },
    {
      "cell_type": "code",
      "execution_count": 116,
      "metadata": {
        "colab": {
          "base_uri": "https://localhost:8080/"
        },
        "id": "fzeqviURjGb4",
        "outputId": "ac14f033-3c3d-4686-be69-c63df0243963"
      },
      "outputs": [
        {
          "output_type": "stream",
          "name": "stdout",
          "text": [
            "Model: \"model_14\"\n",
            "_________________________________________________________________\n",
            " Layer (type)                Output Shape              Param #   \n",
            "=================================================================\n",
            " input_18 (InputLayer)       [(None, 129, 14)]         0         \n",
            "                                                                 \n",
            " transformer_base_time_serie  (None, 10, 1)            34141     \n",
            " s_forecast_model_14 (Transf                                     \n",
            " ormerBaseTimeSeriesForecast                                     \n",
            " Model)                                                          \n",
            "                                                                 \n",
            "=================================================================\n",
            "Total params: 34,141\n",
            "Trainable params: 34,141\n",
            "Non-trainable params: 0\n",
            "_________________________________________________________________\n"
          ]
        }
      ],
      "source": [
        "model.summary()"
      ]
    },
    {
      "cell_type": "code",
      "execution_count": 117,
      "metadata": {
        "colab": {
          "base_uri": "https://localhost:8080/"
        },
        "id": "g2_qGb-Z9efh",
        "outputId": "d24561d3-35a8-4275-cedb-a59fe76711b0"
      },
      "outputs": [
        {
          "output_type": "stream",
          "name": "stdout",
          "text": [
            "Epoch 1/10\n",
            "821/821 - 1096s - loss: 172.1900 - mae: 10.8741 - val_loss: 184.9323 - val_mae: 11.3039 - lr: 0.0000e+00 - 1096s/epoch - 1s/step\n",
            "Epoch 2/10\n",
            "821/821 - 1097s - loss: 105.3062 - mae: 8.2010 - val_loss: 60.2131 - val_mae: 5.8332 - lr: 1.4967e-05 - 1097s/epoch - 1s/step\n",
            "Epoch 3/10\n",
            "821/821 - 1145s - loss: 50.1745 - mae: 5.0766 - val_loss: 41.8311 - val_mae: 4.4148 - lr: 2.9933e-05 - 1145s/epoch - 1s/step\n",
            "Epoch 4/10\n",
            "821/821 - 1117s - loss: 35.6231 - mae: 3.9197 - val_loss: 30.2290 - val_mae: 3.3860 - lr: 4.4900e-05 - 1117s/epoch - 1s/step\n",
            "Epoch 5/10\n",
            "821/821 - 1137s - loss: 23.1336 - mae: 2.9204 - val_loss: 17.2984 - val_mae: 2.2850 - lr: 5.9867e-05 - 1137s/epoch - 1s/step\n",
            "Epoch 6/10\n",
            "821/821 - 1146s - loss: 12.0859 - mae: 1.9379 - val_loss: 7.4072 - val_mae: 1.2672 - lr: 7.4833e-05 - 1146s/epoch - 1s/step\n",
            "Epoch 7/10\n",
            "821/821 - 1103s - loss: 4.6384 - mae: 1.1620 - val_loss: 2.2383 - val_mae: 0.7057 - lr: 8.9800e-05 - 1103s/epoch - 1s/step\n",
            "Epoch 8/10\n",
            "821/821 - 1103s - loss: 1.5567 - mae: 0.7799 - val_loss: 0.6196 - val_mae: 0.4726 - lr: 1.0477e-04 - 1103s/epoch - 1s/step\n",
            "Epoch 9/10\n",
            "821/821 - 1112s - loss: 0.8203 - mae: 0.6560 - val_loss: 0.4369 - val_mae: 0.4841 - lr: 1.1973e-04 - 1112s/epoch - 1s/step\n",
            "Epoch 10/10\n",
            "821/821 - 1028s - loss: 0.6449 - mae: 0.6003 - val_loss: 0.3484 - val_mae: 0.4517 - lr: 1.3470e-04 - 1028s/epoch - 1s/step\n"
          ]
        }
      ],
      "source": [
        "# input = tf.concat([enc_train, dec_train], axis=1)\n",
        "# val_input = tf.concat([enc_val, dec_val], axis=1)\n",
        "# val_data = (val_input, y_val)\n",
        "\n",
        "# print(val_input.shape, y_val.shape)\n",
        "\n",
        "#callbackを使って最も性能の良いモデルを保存\n",
        "callbacks = [\n",
        "    lr_decay\n",
        "    #, keras.callbacks.ModelCheckpoint(\"jena_dense.keras\", save_best_only=True)\n",
        "]\n",
        "#history=model.fit(input, y_train, batch_size=batch_size, epochs=10, validation_data=val_data, callbacks=callbacks,verbose=2)\n",
        "history=model.fit(train_dataset, batch_size=batch_size, epochs=10, validation_data=val_dataset, callbacks=callbacks,verbose=2)\n",
        "# model = keras.models.load_model(\"jena_dense.keras\", \n",
        "#                                 custom_objects={\"EncoderWithMultiHeadAttentionBaseTimeSeriesForecastModel\":EncoderWithMultiHeadAttentionBaseTimeSeriesForecastModel})"
      ]
    },
    {
      "cell_type": "code",
      "execution_count": 118,
      "metadata": {
        "colab": {
          "base_uri": "https://localhost:8080/"
        },
        "id": "AsCXziuIyjCV",
        "outputId": "eda1fe4d-80f3-4c5a-f998-52a952eba0ab"
      },
      "outputs": [
        {
          "output_type": "stream",
          "name": "stdout",
          "text": [
            "411/411 [==============================] - 162s 393ms/step - loss: 0.3816 - mae: 0.4446\n",
            "Test MAE: 0.44\n"
          ]
        }
      ],
      "source": [
        "print(f\"Test MAE: {model.evaluate(test_dataset)[1]:.2f}\")"
      ]
    },
    {
      "cell_type": "code",
      "execution_count": 119,
      "metadata": {
        "colab": {
          "base_uri": "https://localhost:8080/",
          "height": 281
        },
        "id": "i52IukeJPgjs",
        "outputId": "ce5d4190-89a4-485e-9f06-2014e946c722"
      },
      "outputs": [
        {
          "output_type": "display_data",
          "data": {
            "text/plain": [
              "<Figure size 432x288 with 1 Axes>"
            ],
            "image/png": "[encoded data removed]"
          },
          "metadata": {
            "needs_background": "light"
          }
        }
      ],
      "source": [
        "import matplotlib.pyplot as plt\n",
        "\n",
        "loss = history.history[\"mae\"]\n",
        "val_loss = history.history[\"val_mae\"]\n",
        "epochs = range(1, len(loss) + 1)\n",
        "plt.figure()\n",
        "plt.plot(epochs, loss, \"bo\", label=\"Training MAE\")\n",
        "plt.plot(epochs, val_loss, \"b\", label=\"Validation MAE\")\n",
        "plt.title(\"Training and validation MAE\")\n",
        "plt.legend()\n",
        "plt.show()"
      ]
    },
    {
      "cell_type": "code",
      "execution_count": 133,
      "metadata": {
        "colab": {
          "base_uri": "https://localhost:8080/",
          "height": 334
        },
        "id": "02LhoiO0J_r0",
        "outputId": "3cc2af08-e956-4068-eb49-86499ec503a4"
      },
      "outputs": [
        {
          "output_type": "stream",
          "name": "stdout",
          "text": [
            "samples shape: (256, 129, 14)\n",
            "targets value: (256, 10)\n",
            "8/8 [==============================] - 0s 58ms/step\n",
            "preds value: (256, 10, 1)\n"
          ]
        },
        {
          "output_type": "display_data",
          "data": {
            "text/plain": [
              "<Figure size 432x288 with 1 Axes>"
            ],
            "image/png": "[encoded data removed]"
          },
          "metadata": {
            "needs_background": "light"
          }
        }
      ],
      "source": [
        "for samples, targets in test_dataset:\n",
        "    print(\"samples shape:\", samples.shape)\n",
        "    print(\"targets value:\", targets.shape)\n",
        "    targets_pred = model.predict(samples)\n",
        "    print(\"preds value:\", targets_pred.shape)  \n",
        "\n",
        "    plt.figure()\n",
        "    plt.plot(targets[0], label=\"True\")\n",
        "    plt.plot(targets_pred[0,:,0], label=\"Pred\")\n",
        "    plt.legend()\n",
        "    plt.show()\n",
        "    break"
      ]
    },
    {
      "cell_type": "code",
      "execution_count": null,
      "metadata": {
        "colab": {
          "base_uri": "https://localhost:8080/"
        },
        "id": "JydyJz1rM5_l",
        "outputId": "d4884eb8-1362-4bdf-c570-ac6154b2991a"
      },
      "outputs": [
        {
          "data": {
            "text/plain": [
              "TensorShape([17152, 24])"
            ]
          },
          "execution_count": 58,
          "metadata": {},
          "output_type": "execute_result"
        }
      ],
      "source": [
        "y_test.shape"
      ]
    },
    {
      "cell_type": "code",
      "execution_count": null,
      "metadata": {
        "colab": {
          "base_uri": "https://localhost:8080/",
          "height": 282
        },
        "id": "vc0Hrzh3Pcty",
        "outputId": "6d18867a-090f-4f18-8751-62ba18cc1db9"
      },
      "outputs": [
        {
          "data": {
            "text/plain": [
              "<matplotlib.legend.Legend at 0x7fdeb5538580>"
            ]
          },
          "execution_count": 63,
          "metadata": {},
          "output_type": "execute_result"
        },
        {
          "data": {
            "image/png": "[encoded data removed]",
            "text/plain": [
              "<Figure size 432x288 with 1 Axes>"
            ]
          },
          "metadata": {},
          "output_type": "display_data"
        }
      ],
      "source": [
        "start_point = 0\n",
        "end_point = 30000\n",
        "\n",
        "plt.figure()\n",
        "plt.plot(y_test[start_point:end_point,-1], label=\"true\")\n",
        "plt.plot(y_pred[start_point:end_point,-1,0], label=\"pred_trans\")\n",
        "#plt.plot(y_pred_naive[start_point+29 : end_point+29], label=\"naive\")\n",
        "plt.legend()"
      ]
    },
    {
      "cell_type": "code",
      "execution_count": null,
      "metadata": {
        "colab": {
          "base_uri": "https://localhost:8080/"
        },
        "id": "ZFcbfdfZUPI1",
        "outputId": "e7013e47-e5db-47f0-d2d3-7e710e5497db"
      },
      "outputs": [
        {
          "name": "stdout",
          "output_type": "stream",
          "text": [
            "0.20853984289677904 0.9477040455568707\n"
          ]
        }
      ],
      "source": [
        "\n",
        "MSE, r2 = utility.calc_score(y_test[:,-1], y_pred[:,-1,0])\n",
        "print(MSE, r2)"
      ]
    },
    {
      "cell_type": "code",
      "execution_count": null,
      "metadata": {
        "colab": {
          "base_uri": "https://localhost:8080/",
          "height": 282
        },
        "id": "_j9BPhM3LsHl",
        "outputId": "e4fe1af8-26b5-4a8f-f19d-fb16bab6261e"
      },
      "outputs": [
        {
          "data": {
            "text/plain": [
              "[<matplotlib.lines.Line2D at 0x7fdeb55211c0>]"
            ]
          },
          "execution_count": 65,
          "metadata": {},
          "output_type": "execute_result"
        },
        {
          "data": {
            "image/png": "[encoded data removed]",
            "text/plain": [
              "<Figure size 432x288 with 1 Axes>"
            ]
          },
          "metadata": {},
          "output_type": "display_data"
        }
      ],
      "source": [
        "x = np.arange(-2, 6, 0.1)\n",
        "y = x\n",
        "\n",
        "plt.figure()\n",
        "plt.scatter(y_test[:,-1], y_pred[:,-1,0])\n",
        "plt.plot(x, y)"
      ]
    },
    {
      "cell_type": "markdown",
      "metadata": {
        "id": "HsG87Ctvw1vw"
      },
      "source": [
        "# 教科書の実装"
      ]
    },
    {
      "cell_type": "code",
      "execution_count": null,
      "metadata": {
        "id": "Ozje72Jsw31T"
      },
      "outputs": [],
      "source": [
        "import tensorflow as tf\n",
        "from tensorflow import keras\n",
        "from tensorflow.keras import layers\n",
        "\n",
        "class TransformerEncoder(layers.Layer):\n",
        "    def __init__(self, embed_dim, dense_dim, num_heads, **kwargs):\n",
        "        super().__init__(**kwargs)\n",
        "        self.embed_dim = embed_dim\n",
        "        self.dense_dim = dense_dim\n",
        "        self.num_heads = num_heads\n",
        "        self.attention = layers.MultiHeadAttention(\n",
        "            num_heads=num_heads, key_dim=embed_dim)\n",
        "        self.dense_proj = keras.Sequential(\n",
        "            [layers.Dense(dense_dim, activation=\"relu\"),\n",
        "             layers.Dense(embed_dim),]\n",
        "        )\n",
        "        self.layernorm_1 = layers.LayerNormalization()\n",
        "        self.layernorm_2 = layers.LayerNormalization()\n",
        "\n",
        "    def call(self, inputs, mask=None):\n",
        "        if mask is not None:\n",
        "            mask = mask[:, tf.newaxis, :]\n",
        "        attention_output = self.attention(\n",
        "            inputs, inputs, attention_mask=mask)\n",
        "        proj_input = self.layernorm_1(inputs + attention_output)\n",
        "        proj_output = self.dense_proj(proj_input)\n",
        "        return self.layernorm_2(proj_input + proj_output)\n",
        "\n",
        "    def get_config(self):\n",
        "        config = super().get_config()\n",
        "        config.update({\n",
        "            \"embed_dim\": self.embed_dim,\n",
        "            \"num_heads\": self.num_heads,\n",
        "            \"dense_dim\": self.dense_dim,\n",
        "        })\n",
        "        return config"
      ]
    },
    {
      "cell_type": "code",
      "execution_count": null,
      "metadata": {
        "colab": {
          "base_uri": "https://localhost:8080/"
        },
        "id": "Rgz2QdAoxA6X",
        "outputId": "3ce08ffa-2465-4b01-cc93-e8c992cf96aa"
      },
      "outputs": [
        {
          "name": "stdout",
          "output_type": "stream",
          "text": [
            "Model: \"model_5\"\n",
            "_________________________________________________________________\n",
            " Layer (type)                Output Shape              Param #   \n",
            "=================================================================\n",
            " input_11 (InputLayer)       [(None, None)]            0         \n",
            "                                                                 \n",
            " embedding_2 (Embedding)     (None, None, 16)          1920      \n",
            "                                                                 \n",
            " transformer_encoder_63 (Tra  (None, None, 16)         4468      \n",
            " nsformerEncoder)                                                \n",
            "                                                                 \n",
            " global_max_pooling1d_2 (Glo  (None, 16)               0         \n",
            " balMaxPooling1D)                                                \n",
            "                                                                 \n",
            " dropout_137 (Dropout)       (None, 16)                0         \n",
            "                                                                 \n",
            " dense_177 (Dense)           (None, 1)                 17        \n",
            "                                                                 \n",
            "=================================================================\n",
            "Total params: 6,405\n",
            "Trainable params: 6,405\n",
            "Non-trainable params: 0\n",
            "_________________________________________________________________\n"
          ]
        }
      ],
      "source": [
        "from transformer_layers import positional_encoding\n",
        "\n",
        "# vocab_size = 20000\n",
        "# embed_dim = 256\n",
        "# num_heads = 2\n",
        "# dense_dim = 32\n",
        "\n",
        "pos_encoding = positional_encoding(20000, dmodel)\n",
        "\n",
        "inputs = keras.Input(shape=(None,), dtype=\"int64\")\n",
        "x = layers.Embedding(sequence_length, dmodel)(inputs)\n",
        "#x = inputs + pos_encoding[:, :sequence_length, :]\n",
        "x = TransformerEncoder(dmodel, 100, 1)(x)\n",
        "x = layers.GlobalMaxPooling1D()(x)\n",
        "x = layers.Dropout(0.5)(x)\n",
        "outputs = layers.Dense(1, activation=\"sigmoid\")(x)\n",
        "model = keras.Model(inputs, outputs)\n",
        "model.compile(loss=criterion, optimizer=optimizer, metrics=['mae'])\n",
        "model.summary()"
      ]
    },
    {
      "cell_type": "code",
      "execution_count": null,
      "metadata": {
        "colab": {
          "base_uri": "https://localhost:8080/",
          "height": 1000
        },
        "id": "D5oBOX4kxDec",
        "outputId": "c935487e-13b3-4f5a-923d-981926b0c7fb"
      },
      "outputs": [
        {
          "name": "stdout",
          "output_type": "stream",
          "text": [
            "Epoch 1/20\n"
          ]
        },
        {
          "name": "stderr",
          "output_type": "stream",
          "text": [
            "WARNING:tensorflow:Model was constructed with shape (None, None) for input KerasTensor(type_spec=TensorSpec(shape=(None, None), dtype=tf.int64, name='input_11'), name='input_11', description=\"created by layer 'input_11'\"), but it was called on an input with incompatible shape (None, None, 14).\n"
          ]
        },
        {
          "ename": "ValueError",
          "evalue": "ignored",
          "output_type": "error",
          "traceback": [
            "\u001b[0;31m---------------------------------------------------------------------------\u001b[0m",
            "\u001b[0;31mValueError\u001b[0m                                Traceback (most recent call last)",
            "\u001b[0;32m<ipython-input-100-38ed979c364f>\u001b[0m in \u001b[0;36m<module>\u001b[0;34m\u001b[0m\n\u001b[1;32m      3\u001b[0m                                     save_best_only=True)\n\u001b[1;32m      4\u001b[0m ]\n\u001b[0;32m----> 5\u001b[0;31m \u001b[0mmodel\u001b[0m\u001b[0;34m.\u001b[0m\u001b[0mfit\u001b[0m\u001b[0;34m(\u001b[0m\u001b[0mtrain_dataset\u001b[0m\u001b[0;34m,\u001b[0m \u001b[0mvalidation_data\u001b[0m\u001b[0;34m=\u001b[0m\u001b[0mval_dataset\u001b[0m\u001b[0;34m,\u001b[0m \u001b[0mepochs\u001b[0m\u001b[0;34m=\u001b[0m\u001b[0;36m20\u001b[0m\u001b[0;34m,\u001b[0m \u001b[0mcallbacks\u001b[0m\u001b[0;34m=\u001b[0m\u001b[0mcallbacks\u001b[0m\u001b[0;34m)\u001b[0m\u001b[0;34m\u001b[0m\u001b[0;34m\u001b[0m\u001b[0m\n\u001b[0m\u001b[1;32m      6\u001b[0m model = keras.models.load_model(\n\u001b[1;32m      7\u001b[0m     \u001b[0;34m\"transformer_encoder.keras\"\u001b[0m\u001b[0;34m,\u001b[0m\u001b[0;34m\u001b[0m\u001b[0;34m\u001b[0m\u001b[0m\n",
            "\u001b[0;32m/usr/local/lib/python3.8/dist-packages/keras/utils/traceback_utils.py\u001b[0m in \u001b[0;36merror_handler\u001b[0;34m(*args, **kwargs)\u001b[0m\n\u001b[1;32m     68\u001b[0m             \u001b[0;31m# To get the full stack trace, call:\u001b[0m\u001b[0;34m\u001b[0m\u001b[0;34m\u001b[0m\u001b[0;34m\u001b[0m\u001b[0m\n\u001b[1;32m     69\u001b[0m             \u001b[0;31m# `tf.debugging.disable_traceback_filtering()`\u001b[0m\u001b[0;34m\u001b[0m\u001b[0;34m\u001b[0m\u001b[0;34m\u001b[0m\u001b[0m\n\u001b[0;32m---> 70\u001b[0;31m             \u001b[0;32mraise\u001b[0m \u001b[0me\u001b[0m\u001b[0;34m.\u001b[0m\u001b[0mwith_traceback\u001b[0m\u001b[0;34m(\u001b[0m\u001b[0mfiltered_tb\u001b[0m\u001b[0;34m)\u001b[0m \u001b[0;32mfrom\u001b[0m \u001b[0;32mNone\u001b[0m\u001b[0;34m\u001b[0m\u001b[0;34m\u001b[0m\u001b[0m\n\u001b[0m\u001b[1;32m     71\u001b[0m         \u001b[0;32mfinally\u001b[0m\u001b[0;34m:\u001b[0m\u001b[0;34m\u001b[0m\u001b[0;34m\u001b[0m\u001b[0m\n\u001b[1;32m     72\u001b[0m             \u001b[0;32mdel\u001b[0m \u001b[0mfiltered_tb\u001b[0m\u001b[0;34m\u001b[0m\u001b[0;34m\u001b[0m\u001b[0m\n",
            "\u001b[0;32m/usr/local/lib/python3.8/dist-packages/keras/engine/training.py\u001b[0m in \u001b[0;36mtf__train_function\u001b[0;34m(iterator)\u001b[0m\n\u001b[1;32m     13\u001b[0m                 \u001b[0;32mtry\u001b[0m\u001b[0;34m:\u001b[0m\u001b[0;34m\u001b[0m\u001b[0;34m\u001b[0m\u001b[0m\n\u001b[1;32m     14\u001b[0m                     \u001b[0mdo_return\u001b[0m \u001b[0;34m=\u001b[0m \u001b[0;32mTrue\u001b[0m\u001b[0;34m\u001b[0m\u001b[0;34m\u001b[0m\u001b[0m\n\u001b[0;32m---> 15\u001b[0;31m                     \u001b[0mretval_\u001b[0m \u001b[0;34m=\u001b[0m \u001b[0mag__\u001b[0m\u001b[0;34m.\u001b[0m\u001b[0mconverted_call\u001b[0m\u001b[0;34m(\u001b[0m\u001b[0mag__\u001b[0m\u001b[0;34m.\u001b[0m\u001b[0mld\u001b[0m\u001b[0;34m(\u001b[0m\u001b[0mstep_function\u001b[0m\u001b[0;34m)\u001b[0m\u001b[0;34m,\u001b[0m \u001b[0;34m(\u001b[0m\u001b[0mag__\u001b[0m\u001b[0;34m.\u001b[0m\u001b[0mld\u001b[0m\u001b[0;34m(\u001b[0m\u001b[0mself\u001b[0m\u001b[0;34m)\u001b[0m\u001b[0;34m,\u001b[0m \u001b[0mag__\u001b[0m\u001b[0;34m.\u001b[0m\u001b[0mld\u001b[0m\u001b[0;34m(\u001b[0m\u001b[0miterator\u001b[0m\u001b[0;34m)\u001b[0m\u001b[0;34m)\u001b[0m\u001b[0;34m,\u001b[0m \u001b[0;32mNone\u001b[0m\u001b[0;34m,\u001b[0m \u001b[0mfscope\u001b[0m\u001b[0;34m)\u001b[0m\u001b[0;34m\u001b[0m\u001b[0;34m\u001b[0m\u001b[0m\n\u001b[0m\u001b[1;32m     16\u001b[0m                 \u001b[0;32mexcept\u001b[0m\u001b[0;34m:\u001b[0m\u001b[0;34m\u001b[0m\u001b[0;34m\u001b[0m\u001b[0m\n\u001b[1;32m     17\u001b[0m                     \u001b[0mdo_return\u001b[0m \u001b[0;34m=\u001b[0m \u001b[0;32mFalse\u001b[0m\u001b[0;34m\u001b[0m\u001b[0;34m\u001b[0m\u001b[0m\n",
            "\u001b[0;32m/tmp/__autograph_generated_filenivzmbva.py\u001b[0m in \u001b[0;36mtf__call\u001b[0;34m(self, inputs, mask)\u001b[0m\n\u001b[1;32m     24\u001b[0m                     \u001b[0;32mpass\u001b[0m\u001b[0;34m\u001b[0m\u001b[0;34m\u001b[0m\u001b[0m\n\u001b[1;32m     25\u001b[0m                 \u001b[0mag__\u001b[0m\u001b[0;34m.\u001b[0m\u001b[0mif_stmt\u001b[0m\u001b[0;34m(\u001b[0m\u001b[0;34m(\u001b[0m\u001b[0mag__\u001b[0m\u001b[0;34m.\u001b[0m\u001b[0mld\u001b[0m\u001b[0;34m(\u001b[0m\u001b[0mmask\u001b[0m\u001b[0;34m)\u001b[0m \u001b[0;32mis\u001b[0m \u001b[0;32mnot\u001b[0m \u001b[0;32mNone\u001b[0m\u001b[0;34m)\u001b[0m\u001b[0;34m,\u001b[0m \u001b[0mif_body\u001b[0m\u001b[0;34m,\u001b[0m \u001b[0melse_body\u001b[0m\u001b[0;34m,\u001b[0m \u001b[0mget_state\u001b[0m\u001b[0;34m,\u001b[0m \u001b[0mset_state\u001b[0m\u001b[0;34m,\u001b[0m \u001b[0;34m(\u001b[0m\u001b[0;34m'mask'\u001b[0m\u001b[0;34m,\u001b[0m\u001b[0;34m)\u001b[0m\u001b[0;34m,\u001b[0m \u001b[0;36m1\u001b[0m\u001b[0;34m)\u001b[0m\u001b[0;34m\u001b[0m\u001b[0;34m\u001b[0m\u001b[0m\n\u001b[0;32m---> 26\u001b[0;31m                 \u001b[0mattention_output\u001b[0m \u001b[0;34m=\u001b[0m \u001b[0mag__\u001b[0m\u001b[0;34m.\u001b[0m\u001b[0mconverted_call\u001b[0m\u001b[0;34m(\u001b[0m\u001b[0mag__\u001b[0m\u001b[0;34m.\u001b[0m\u001b[0mld\u001b[0m\u001b[0;34m(\u001b[0m\u001b[0mself\u001b[0m\u001b[0;34m)\u001b[0m\u001b[0;34m.\u001b[0m\u001b[0mattention\u001b[0m\u001b[0;34m,\u001b[0m \u001b[0;34m(\u001b[0m\u001b[0mag__\u001b[0m\u001b[0;34m.\u001b[0m\u001b[0mld\u001b[0m\u001b[0;34m(\u001b[0m\u001b[0minputs\u001b[0m\u001b[0;34m)\u001b[0m\u001b[0;34m,\u001b[0m \u001b[0mag__\u001b[0m\u001b[0;34m.\u001b[0m\u001b[0mld\u001b[0m\u001b[0;34m(\u001b[0m\u001b[0minputs\u001b[0m\u001b[0;34m)\u001b[0m\u001b[0;34m)\u001b[0m\u001b[0;34m,\u001b[0m \u001b[0mdict\u001b[0m\u001b[0;34m(\u001b[0m\u001b[0mattention_mask\u001b[0m\u001b[0;34m=\u001b[0m\u001b[0mag__\u001b[0m\u001b[0;34m.\u001b[0m\u001b[0mld\u001b[0m\u001b[0;34m(\u001b[0m\u001b[0mmask\u001b[0m\u001b[0;34m)\u001b[0m\u001b[0;34m)\u001b[0m\u001b[0;34m,\u001b[0m \u001b[0mfscope\u001b[0m\u001b[0;34m)\u001b[0m\u001b[0;34m\u001b[0m\u001b[0;34m\u001b[0m\u001b[0m\n\u001b[0m\u001b[1;32m     27\u001b[0m                 \u001b[0mproj_input\u001b[0m \u001b[0;34m=\u001b[0m \u001b[0mag__\u001b[0m\u001b[0;34m.\u001b[0m\u001b[0mconverted_call\u001b[0m\u001b[0;34m(\u001b[0m\u001b[0mag__\u001b[0m\u001b[0;34m.\u001b[0m\u001b[0mld\u001b[0m\u001b[0;34m(\u001b[0m\u001b[0mself\u001b[0m\u001b[0;34m)\u001b[0m\u001b[0;34m.\u001b[0m\u001b[0mlayernorm_1\u001b[0m\u001b[0;34m,\u001b[0m \u001b[0;34m(\u001b[0m\u001b[0;34m(\u001b[0m\u001b[0mag__\u001b[0m\u001b[0;34m.\u001b[0m\u001b[0mld\u001b[0m\u001b[0;34m(\u001b[0m\u001b[0minputs\u001b[0m\u001b[0;34m)\u001b[0m \u001b[0;34m+\u001b[0m \u001b[0mag__\u001b[0m\u001b[0;34m.\u001b[0m\u001b[0mld\u001b[0m\u001b[0;34m(\u001b[0m\u001b[0mattention_output\u001b[0m\u001b[0;34m)\u001b[0m\u001b[0;34m)\u001b[0m\u001b[0;34m,\u001b[0m\u001b[0;34m)\u001b[0m\u001b[0;34m,\u001b[0m \u001b[0;32mNone\u001b[0m\u001b[0;34m,\u001b[0m \u001b[0mfscope\u001b[0m\u001b[0;34m)\u001b[0m\u001b[0;34m\u001b[0m\u001b[0;34m\u001b[0m\u001b[0m\n\u001b[1;32m     28\u001b[0m                 \u001b[0mproj_output\u001b[0m \u001b[0;34m=\u001b[0m \u001b[0mag__\u001b[0m\u001b[0;34m.\u001b[0m\u001b[0mconverted_call\u001b[0m\u001b[0;34m(\u001b[0m\u001b[0mag__\u001b[0m\u001b[0;34m.\u001b[0m\u001b[0mld\u001b[0m\u001b[0;34m(\u001b[0m\u001b[0mself\u001b[0m\u001b[0;34m)\u001b[0m\u001b[0;34m.\u001b[0m\u001b[0mdense_proj\u001b[0m\u001b[0;34m,\u001b[0m \u001b[0;34m(\u001b[0m\u001b[0mag__\u001b[0m\u001b[0;34m.\u001b[0m\u001b[0mld\u001b[0m\u001b[0;34m(\u001b[0m\u001b[0mproj_input\u001b[0m\u001b[0;34m)\u001b[0m\u001b[0;34m,\u001b[0m\u001b[0;34m)\u001b[0m\u001b[0;34m,\u001b[0m \u001b[0;32mNone\u001b[0m\u001b[0;34m,\u001b[0m \u001b[0mfscope\u001b[0m\u001b[0;34m)\u001b[0m\u001b[0;34m\u001b[0m\u001b[0;34m\u001b[0m\u001b[0m\n",
            "\u001b[0;31mValueError\u001b[0m: in user code:\n\n    File \"/usr/local/lib/python3.8/dist-packages/keras/engine/training.py\", line 1249, in train_function  *\n        return step_function(self, iterator)\n    File \"/usr/local/lib/python3.8/dist-packages/keras/engine/training.py\", line 1233, in step_function  **\n        outputs = model.distribute_strategy.run(run_step, args=(data,))\n    File \"/usr/local/lib/python3.8/dist-packages/keras/engine/training.py\", line 1222, in run_step  **\n        outputs = model.train_step(data)\n    File \"/usr/local/lib/python3.8/dist-packages/keras/engine/training.py\", line 1023, in train_step\n        y_pred = self(x, training=True)\n    File \"/usr/local/lib/python3.8/dist-packages/keras/utils/traceback_utils.py\", line 70, in error_handler\n        raise e.with_traceback(filtered_tb) from None\n    File \"/tmp/__autograph_generated_filenivzmbva.py\", line 26, in tf__call\n        attention_output = ag__.converted_call(ag__.ld(self).attention, (ag__.ld(inputs), ag__.ld(inputs)), dict(attention_mask=ag__.ld(mask)), fscope)\n\n    ValueError: Exception encountered when calling layer 'transformer_encoder_63' (type TransformerEncoder).\n    \n    in user code:\n    \n        File \"<ipython-input-94-0a157a6e38a4>\", line 23, in call  *\n            attention_output = self.attention(\n        File \"/usr/local/lib/python3.8/dist-packages/keras/utils/traceback_utils.py\", line 70, in error_handler  **\n            raise e.with_traceback(filtered_tb) from None\n    \n        ValueError: Exception encountered when calling layer 'query' (type EinsumDense).\n        \n        Shape must be rank 3 but is rank 4\n        \t for 0th input and equation: abc,cde->abde for '{{node model_5/transformer_encoder_63/multi_head_attention_63/query/einsum/Einsum}} = Einsum[N=2, T=DT_FLOAT, equation=\"abc,cde->abde\"](model_5/embedding_2/embedding_lookup/Identity_1, model_5/transformer_encoder_63/multi_head_attention_63/query/einsum/Einsum/ReadVariableOp)' with input shapes: [?,?,14,16], [16,1,16].\n        \n        Call arguments received by layer 'query' (type EinsumDense):\n          • inputs=tf.Tensor(shape=(None, None, 14, 16), dtype=float32)\n    \n    \n    Call arguments received by layer 'transformer_encoder_63' (type TransformerEncoder):\n      • inputs=tf.Tensor(shape=(None, None, 14, 16), dtype=float32)\n      • mask=None\n"
          ]
        }
      ],
      "source": [
        "callbacks = [\n",
        "    keras.callbacks.ModelCheckpoint(\"transformer_encoder.keras\",\n",
        "                                    save_best_only=True)\n",
        "]\n",
        "model.fit(train_dataset, validation_data=val_dataset, epochs=20, callbacks=callbacks)\n",
        "model = keras.models.load_model(\n",
        "    \"transformer_encoder.keras\",\n",
        "    custom_objects={\"TransformerEncoder\": TransformerEncoder})\n",
        "print(f\"Test acc: {model.evaluate(test_dataset)[1]:.3f}\")"
      ]
    }
  ],
  "metadata": {
    "colab": {
      "provenance": [],
      "authorship_tag": "ABX9TyOeqGBIVK8Tsb9da/7EApb7",
      "include_colab_link": true
    },
    "kernelspec": {
      "display_name": "Python 3",
      "name": "python3"
    },
    "language_info": {
      "name": "python"
    }
  },
  "nbformat": 4,
  "nbformat_minor": 0
}